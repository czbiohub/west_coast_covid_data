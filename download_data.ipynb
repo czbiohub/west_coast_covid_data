{
 "cells": [
  {
   "cell_type": "code",
   "execution_count": 1,
   "metadata": {},
   "outputs": [],
   "source": [
    "import urllib\n",
    "import json\n",
    "import pandas as pd"
   ]
  },
  {
   "cell_type": "markdown",
   "metadata": {},
   "source": [
    "## California"
   ]
  },
  {
   "cell_type": "code",
   "execution_count": 2,
   "metadata": {},
   "outputs": [],
   "source": [
    "url = 'https://data.ca.gov/api/3/action/datastore_search?resource_id=42d33765-20fd-44b8-a978-b083b7542225&limit=100000'  \n",
    "fileobj = urllib.request.urlopen(url)\n",
    "hospitalizations_str = fileobj.read().decode(\"utf-8\")\n",
    "hospitalizations_dict = json.loads(hospitalizations_str)\n",
    "hospitalizations = pd.DataFrame(hospitalizations_dict[\"result\"][\"records\"]).rename(columns={\"todays_date\":\"date\"})\n",
    "\n"
   ]
  },
  {
   "cell_type": "code",
   "execution_count": 3,
   "metadata": {},
   "outputs": [],
   "source": [
    "url = 'https://data.ca.gov/api/3/action/datastore_search?resource_id=926fd08f-cc91-4828-af38-bd45de97f8c3&limit=100000'\n",
    "fileobj = urllib.request.urlopen(url)\n",
    "cases_str = fileobj.read().decode(\"utf-8\")\n",
    "cases_dict = json.loads(cases_str)\n",
    "cases = pd.DataFrame(cases_dict[\"result\"][\"records\"])\n",
    "\n",
    "\n"
   ]
  },
  {
   "cell_type": "code",
   "execution_count": 17,
   "metadata": {},
   "outputs": [],
   "source": [
    "ca_data = pd.merge(cases, hospitalizations, how=\"left\").\\\n",
    "drop(columns=[\"_id\", \"totalcountconfirmed\", \"totalcountdeaths\"]).\\\n",
    "assign(state=\"California\").\\\n",
    "rename(columns={\"newcountconfirmed\":\"cases\", \"newcountdeaths\":\"deaths\"})\n",
    "ca_data[\"date\"] = pd.to_datetime(ca_data[\"date\"])\n"
   ]
  },
  {
   "cell_type": "markdown",
   "metadata": {},
   "source": [
    "## Washington"
   ]
  },
  {
   "cell_type": "code",
   "execution_count": 30,
   "metadata": {},
   "outputs": [],
   "source": [
    "nyt_data = pd.read_csv(\"https://raw.githubusercontent.com/nytimes/covid-19-data/master/us-counties.csv\").drop(columns=\"fips\")\n",
    "nyt_data[\"date\"] = pd.to_datetime(nyt_data[\"date\"])\n",
    "\n"
   ]
  },
  {
   "cell_type": "code",
   "execution_count": 31,
   "metadata": {},
   "outputs": [],
   "source": [
    "wa_data = nyt_data[nyt_data[\"state\"]==\"Washington\"]"
   ]
  },
  {
   "cell_type": "markdown",
   "metadata": {},
   "source": [
    "## Oregon"
   ]
  },
  {
   "cell_type": "code",
   "execution_count": 32,
   "metadata": {},
   "outputs": [],
   "source": [
    "or_data = nyt_data[nyt_data[\"state\"]==\"Oregon\"]"
   ]
  },
  {
   "cell_type": "markdown",
   "metadata": {},
   "source": [
    "## Aggregate"
   ]
  },
  {
   "cell_type": "code",
   "execution_count": 51,
   "metadata": {},
   "outputs": [
    {
     "name": "stderr",
     "output_type": "stream",
     "text": [
      "/Users/lucy.li/anaconda3/lib/python3.6/site-packages/ipykernel_launcher.py:1: FutureWarning: Sorting because non-concatenation axis is not aligned. A future version\n",
      "of pandas will change to not sort by default.\n",
      "\n",
      "To accept the future behavior, pass 'sort=True'.\n",
      "\n",
      "To retain the current behavior and silence the warning, pass sort=False\n",
      "\n",
      "  \"\"\"Entry point for launching an IPython kernel.\n"
     ]
    }
   ],
   "source": [
    "all_data = pd.concat([wa_data, or_data, ca_data])\n",
    "first_columns = [\"state\", \"county\", \"date\", \"cases\", \"deaths\"]\n",
    "new_col_order = first_columns + [x for x in list(all_data.columns) if x not in first_columns]\n",
    "all_data = all_data[new_col_order]"
   ]
  },
  {
   "cell_type": "code",
   "execution_count": 53,
   "metadata": {},
   "outputs": [],
   "source": [
    "all_data_agg = all_data.groupby([\"state\", \"county\", \"date\"]).agg(sum)"
   ]
  },
  {
   "cell_type": "markdown",
   "metadata": {},
   "source": [
    "## Save to file"
   ]
  },
  {
   "cell_type": "code",
   "execution_count": 54,
   "metadata": {},
   "outputs": [],
   "source": [
    "all_data.to_csv(\"county_data.csv\", index=False)\n",
    "all_data_agg.to_csv(\"state_data.csv\", index=False)"
   ]
  },
  {
   "cell_type": "code",
   "execution_count": null,
   "metadata": {},
   "outputs": [],
   "source": []
  }
 ],
 "metadata": {
  "kernelspec": {
   "display_name": "Python 3",
   "language": "python",
   "name": "python3"
  },
  "language_info": {
   "codemirror_mode": {
    "name": "ipython",
    "version": 3
   },
   "file_extension": ".py",
   "mimetype": "text/x-python",
   "name": "python",
   "nbconvert_exporter": "python",
   "pygments_lexer": "ipython3",
   "version": "3.6.5"
  }
 },
 "nbformat": 4,
 "nbformat_minor": 2
}
